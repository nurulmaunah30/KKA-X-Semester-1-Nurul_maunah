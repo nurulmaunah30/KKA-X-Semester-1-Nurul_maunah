{
  "nbformat": 4,
  "nbformat_minor": 0,
  "metadata": {
    "colab": {
      "provenance": [],
      "authorship_tag": "ABX9TyMei6mtxSIn8TXWreDY8rdB",
      "include_colab_link": true
    },
    "kernelspec": {
      "name": "python3",
      "display_name": "Python 3"
    },
    "language_info": {
      "name": "python"
    }
  },
  "cells": [
    {
      "cell_type": "markdown",
      "metadata": {
        "id": "view-in-github",
        "colab_type": "text"
      },
      "source": [
        "<a href=\"https://colab.research.google.com/github/nurulmaunah30/KKA-X-Semester-1-Nurul_maunah/blob/main/1_fungsiprintnurul_X_2.ipynb\" target=\"_parent\"><img src=\"https://colab.research.google.com/assets/colab-badge.svg\" alt=\"Open In Colab\"/></a>"
      ]
    },
    {
      "cell_type": "markdown",
      "source": [
        "Nama:Nurul maunah\n",
        "\n",
        "Kelas:X.2\n",
        "\n",
        "Nomor:28"
      ],
      "metadata": {
        "id": "5bOBAZn_tqgj"
      }
    },
    {
      "cell_type": "markdown",
      "source": [
        "#Menampilkan teks bebas"
      ],
      "metadata": {
        "id": "5_OuHF3Eundh"
      }
    },
    {
      "cell_type": "code",
      "execution_count": null,
      "metadata": {
        "colab": {
          "base_uri": "https://localhost:8080/"
        },
        "id": "OgSK-XuCtCW5",
        "outputId": "d1be0c91-23f7-430a-8c67-b52d6f0ce529"
      },
      "outputs": [
        {
          "output_type": "stream",
          "name": "stdout",
          "text": [
            "halo world!\n"
          ]
        }
      ],
      "source": [
        "print(\"halo world!\")"
      ]
    },
    {
      "cell_type": "code",
      "source": [
        "print(\"nurul maunah\")"
      ],
      "metadata": {
        "id": "GNXr9fEPwddg"
      },
      "execution_count": null,
      "outputs": []
    },
    {
      "cell_type": "markdown",
      "source": [
        "#Menampilkan Nilai Variabel"
      ],
      "metadata": {
        "id": "d_0eCdCAw60E"
      }
    },
    {
      "cell_type": "code",
      "source": [
        "berat_badan = 50\n",
        "\n",
        "print(berat_badan)"
      ],
      "metadata": {
        "colab": {
          "base_uri": "https://localhost:8080/"
        },
        "id": "HRwlgLk-xH7o",
        "outputId": "98b74426-1973-407c-b901-9886e653e199"
      },
      "execution_count": null,
      "outputs": [
        {
          "output_type": "stream",
          "name": "stdout",
          "text": [
            "50\n"
          ]
        }
      ]
    },
    {
      "cell_type": "code",
      "source": [
        "nama = \"nurul maunah\"\n",
        "\n",
        "print(nama)"
      ],
      "metadata": {
        "colab": {
          "base_uri": "https://localhost:8080/"
        },
        "id": "-JY9HgIWxwYn",
        "outputId": "c0b4a888-a775-4ac2-9273-fa0283a12a27"
      },
      "execution_count": null,
      "outputs": [
        {
          "output_type": "stream",
          "name": "stdout",
          "text": [
            "nurul maunah\n"
          ]
        }
      ]
    },
    {
      "cell_type": "code",
      "source": [
        "usia = 28\n",
        "\n",
        "print(usia)"
      ],
      "metadata": {
        "colab": {
          "base_uri": "https://localhost:8080/"
        },
        "id": "L6ugPABFyLDR",
        "outputId": "754c411f-0b75-4a05-a9bd-1d8f7b31015d"
      },
      "execution_count": null,
      "outputs": [
        {
          "output_type": "stream",
          "name": "stdout",
          "text": [
            "28\n"
          ]
        }
      ]
    },
    {
      "cell_type": "markdown",
      "source": [
        "#Menampilkan Teks Bebas dan Nilai Variabel"
      ],
      "metadata": {
        "id": "pJYJGPaGyt1o"
      }
    },
    {
      "cell_type": "code",
      "source": [
        "print(\"berat badan saya adalah\", berat_badan, \"kg.\")"
      ],
      "metadata": {
        "colab": {
          "base_uri": "https://localhost:8080/"
        },
        "id": "fuG54PtwzF9u",
        "outputId": "57cceade-f462-4b51-a355-5730e50c9109"
      },
      "execution_count": null,
      "outputs": [
        {
          "output_type": "stream",
          "name": "stdout",
          "text": [
            "berat badan saya adalah 50 kg.\n"
          ]
        }
      ]
    },
    {
      "cell_type": "code",
      "source": [
        "print(\"perkenalkan nama saya,\" ,nama,\".\")"
      ],
      "metadata": {
        "colab": {
          "base_uri": "https://localhost:8080/"
        },
        "id": "bI9tNJRVznk4",
        "outputId": "c049f2e7-1c52-4544-8339-4b6fcd3dc96c"
      },
      "execution_count": null,
      "outputs": [
        {
          "output_type": "stream",
          "name": "stdout",
          "text": [
            "perkenalkan nama saya, nurul maunah .\n"
          ]
        }
      ]
    },
    {
      "cell_type": "code",
      "source": [
        "print(\"perkenalkan nama saya,\" +nama+\".\")"
      ],
      "metadata": {
        "colab": {
          "base_uri": "https://localhost:8080/"
        },
        "id": "5jB8gdZs0oG4",
        "outputId": "00dd2a8a-537c-49c6-f37e-91f6b97878fe"
      },
      "execution_count": null,
      "outputs": [
        {
          "output_type": "stream",
          "name": "stdout",
          "text": [
            "perkenalkan nama saya,nurul maunah.\n"
          ]
        }
      ]
    },
    {
      "cell_type": "code",
      "source": [
        "print(\"berat badan saya adalah \" + str(berat_badan) + \" kg.\")"
      ],
      "metadata": {
        "colab": {
          "base_uri": "https://localhost:8080/"
        },
        "id": "n9tas4Hf1zXs",
        "outputId": "b27da407-be3a-4c41-dc74-8df691c9dde7"
      },
      "execution_count": null,
      "outputs": [
        {
          "output_type": "stream",
          "name": "stdout",
          "text": [
            "berat badan saya adalah 50 kg.\n"
          ]
        }
      ]
    },
    {
      "cell_type": "code",
      "source": [
        "print(f\"perkenalkan nama saya {nama}.\")"
      ],
      "metadata": {
        "colab": {
          "base_uri": "https://localhost:8080/"
        },
        "id": "3dOsOb8o27Nv",
        "outputId": "2131f029-7dd2-4d2d-e999-2c9ac19cf477"
      },
      "execution_count": null,
      "outputs": [
        {
          "output_type": "stream",
          "name": "stdout",
          "text": [
            "perkenalkan nama saya nurul maunah.\n"
          ]
        }
      ]
    },
    {
      "cell_type": "code",
      "source": [
        "print (f\"berat badan saya adalah {berat_badan}kg.\")"
      ],
      "metadata": {
        "colab": {
          "base_uri": "https://localhost:8080/"
        },
        "id": "oX54_aZJ3Pak",
        "outputId": "a4ca639b-53f5-4e3a-9043-79d5a8ea0f3b"
      },
      "execution_count": null,
      "outputs": [
        {
          "output_type": "stream",
          "name": "stdout",
          "text": [
            "berat badan saya adalah 50kg.\n"
          ]
        }
      ]
    }
  ]
}